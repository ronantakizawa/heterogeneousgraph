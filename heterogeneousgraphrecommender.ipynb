{
  "nbformat": 4,
  "nbformat_minor": 0,
  "metadata": {
    "colab": {
      "provenance": []
    },
    "kernelspec": {
      "display_name": "Python 3",
      "name": "python3"
    },
    "language_info": {
      "codemirror_mode": {
        "name": "ipython",
        "version": 3
      },
      "file_extension": ".py",
      "mimetype": "text/x-python",
      "name": "python",
      "nbconvert_exporter": "python",
      "pygments_lexer": "ipython3",
      "version": "3.8.3"
    }
  },
  "cells": [
    {
      "cell_type": "markdown",
      "source": [
        "## Install Libraries & Prepare the Working Directory"
      ],
      "metadata": {
        "id": "oA1MetB43GlF"
      }
    },
    {
      "cell_type": "code",
      "source": [
        "#!pip install torch torchvision torchaudio --extra-index-url https://download.pytorch.org/whl/cu121\n",
        "#!pip install torch-scatter -f https://data.pyg.org/whl/torch-1.11.0+cu121.html\n",
        "#!pip install torch-sparse -f https://data.pyg.org/whl/torch-1.11.0+cu121.html\n",
        "#!pip install torch-cluster -f https://data.pyg.org/whl/torch-1.11.0+cu121.html\n",
        "!pip install torch torchvision torchaudio\n",
        "!pip install torch-geometric"
      ],
      "metadata": {
        "id": "Sse3XDHVwOYP",
        "colab": {
          "base_uri": "https://localhost:8080/"
        },
        "collapsed": true,
        "outputId": "f69621b9-7932-4969-83bd-b95a230cce83"
      },
      "execution_count": 1,
      "outputs": [
        {
          "output_type": "stream",
          "name": "stdout",
          "text": [
            "Requirement already satisfied: torch in /usr/local/lib/python3.10/dist-packages (2.2.1+cu121)\n",
            "Requirement already satisfied: torchvision in /usr/local/lib/python3.10/dist-packages (0.17.1+cu121)\n",
            "Requirement already satisfied: torchaudio in /usr/local/lib/python3.10/dist-packages (2.2.1+cu121)\n",
            "Requirement already satisfied: filelock in /usr/local/lib/python3.10/dist-packages (from torch) (3.14.0)\n",
            "Requirement already satisfied: typing-extensions>=4.8.0 in /usr/local/lib/python3.10/dist-packages (from torch) (4.11.0)\n",
            "Requirement already satisfied: sympy in /usr/local/lib/python3.10/dist-packages (from torch) (1.12)\n",
            "Requirement already satisfied: networkx in /usr/local/lib/python3.10/dist-packages (from torch) (3.3)\n",
            "Requirement already satisfied: jinja2 in /usr/local/lib/python3.10/dist-packages (from torch) (3.1.4)\n",
            "Requirement already satisfied: fsspec in /usr/local/lib/python3.10/dist-packages (from torch) (2023.6.0)\n",
            "Collecting nvidia-cuda-nvrtc-cu12==12.1.105 (from torch)\n",
            "  Using cached nvidia_cuda_nvrtc_cu12-12.1.105-py3-none-manylinux1_x86_64.whl (23.7 MB)\n",
            "Collecting nvidia-cuda-runtime-cu12==12.1.105 (from torch)\n",
            "  Using cached nvidia_cuda_runtime_cu12-12.1.105-py3-none-manylinux1_x86_64.whl (823 kB)\n",
            "Collecting nvidia-cuda-cupti-cu12==12.1.105 (from torch)\n",
            "  Using cached nvidia_cuda_cupti_cu12-12.1.105-py3-none-manylinux1_x86_64.whl (14.1 MB)\n",
            "Collecting nvidia-cudnn-cu12==8.9.2.26 (from torch)\n",
            "  Using cached nvidia_cudnn_cu12-8.9.2.26-py3-none-manylinux1_x86_64.whl (731.7 MB)\n",
            "Collecting nvidia-cublas-cu12==12.1.3.1 (from torch)\n",
            "  Using cached nvidia_cublas_cu12-12.1.3.1-py3-none-manylinux1_x86_64.whl (410.6 MB)\n",
            "Collecting nvidia-cufft-cu12==11.0.2.54 (from torch)\n",
            "  Using cached nvidia_cufft_cu12-11.0.2.54-py3-none-manylinux1_x86_64.whl (121.6 MB)\n",
            "Collecting nvidia-curand-cu12==10.3.2.106 (from torch)\n",
            "  Using cached nvidia_curand_cu12-10.3.2.106-py3-none-manylinux1_x86_64.whl (56.5 MB)\n",
            "Collecting nvidia-cusolver-cu12==11.4.5.107 (from torch)\n",
            "  Using cached nvidia_cusolver_cu12-11.4.5.107-py3-none-manylinux1_x86_64.whl (124.2 MB)\n",
            "Collecting nvidia-cusparse-cu12==12.1.0.106 (from torch)\n",
            "  Using cached nvidia_cusparse_cu12-12.1.0.106-py3-none-manylinux1_x86_64.whl (196.0 MB)\n",
            "Collecting nvidia-nccl-cu12==2.19.3 (from torch)\n",
            "  Using cached nvidia_nccl_cu12-2.19.3-py3-none-manylinux1_x86_64.whl (166.0 MB)\n",
            "Collecting nvidia-nvtx-cu12==12.1.105 (from torch)\n",
            "  Using cached nvidia_nvtx_cu12-12.1.105-py3-none-manylinux1_x86_64.whl (99 kB)\n",
            "Requirement already satisfied: triton==2.2.0 in /usr/local/lib/python3.10/dist-packages (from torch) (2.2.0)\n",
            "Collecting nvidia-nvjitlink-cu12 (from nvidia-cusolver-cu12==11.4.5.107->torch)\n",
            "  Using cached nvidia_nvjitlink_cu12-12.4.127-py3-none-manylinux2014_x86_64.whl (21.1 MB)\n",
            "Requirement already satisfied: numpy in /usr/local/lib/python3.10/dist-packages (from torchvision) (1.25.2)\n",
            "Requirement already satisfied: pillow!=8.3.*,>=5.3.0 in /usr/local/lib/python3.10/dist-packages (from torchvision) (9.4.0)\n",
            "Requirement already satisfied: MarkupSafe>=2.0 in /usr/local/lib/python3.10/dist-packages (from jinja2->torch) (2.1.5)\n",
            "Requirement already satisfied: mpmath>=0.19 in /usr/local/lib/python3.10/dist-packages (from sympy->torch) (1.3.0)\n",
            "Installing collected packages: nvidia-nvtx-cu12, nvidia-nvjitlink-cu12, nvidia-nccl-cu12, nvidia-curand-cu12, nvidia-cufft-cu12, nvidia-cuda-runtime-cu12, nvidia-cuda-nvrtc-cu12, nvidia-cuda-cupti-cu12, nvidia-cublas-cu12, nvidia-cusparse-cu12, nvidia-cudnn-cu12, nvidia-cusolver-cu12\n",
            "Successfully installed nvidia-cublas-cu12-12.1.3.1 nvidia-cuda-cupti-cu12-12.1.105 nvidia-cuda-nvrtc-cu12-12.1.105 nvidia-cuda-runtime-cu12-12.1.105 nvidia-cudnn-cu12-8.9.2.26 nvidia-cufft-cu12-11.0.2.54 nvidia-curand-cu12-10.3.2.106 nvidia-cusolver-cu12-11.4.5.107 nvidia-cusparse-cu12-12.1.0.106 nvidia-nccl-cu12-2.19.3 nvidia-nvjitlink-cu12-12.4.127 nvidia-nvtx-cu12-12.1.105\n",
            "Collecting torch-geometric\n",
            "  Downloading torch_geometric-2.5.3-py3-none-any.whl (1.1 MB)\n",
            "\u001b[2K     \u001b[90m━━━━━━━━━━━━━━━━━━━━━━━━━━━━━━━━━━━━━━━━\u001b[0m \u001b[32m1.1/1.1 MB\u001b[0m \u001b[31m9.0 MB/s\u001b[0m eta \u001b[36m0:00:00\u001b[0m\n",
            "\u001b[?25hRequirement already satisfied: tqdm in /usr/local/lib/python3.10/dist-packages (from torch-geometric) (4.66.4)\n",
            "Requirement already satisfied: numpy in /usr/local/lib/python3.10/dist-packages (from torch-geometric) (1.25.2)\n",
            "Requirement already satisfied: scipy in /usr/local/lib/python3.10/dist-packages (from torch-geometric) (1.11.4)\n",
            "Requirement already satisfied: fsspec in /usr/local/lib/python3.10/dist-packages (from torch-geometric) (2023.6.0)\n",
            "Requirement already satisfied: jinja2 in /usr/local/lib/python3.10/dist-packages (from torch-geometric) (3.1.4)\n",
            "Requirement already satisfied: aiohttp in /usr/local/lib/python3.10/dist-packages (from torch-geometric) (3.9.5)\n",
            "Requirement already satisfied: requests in /usr/local/lib/python3.10/dist-packages (from torch-geometric) (2.31.0)\n",
            "Requirement already satisfied: pyparsing in /usr/local/lib/python3.10/dist-packages (from torch-geometric) (3.1.2)\n",
            "Requirement already satisfied: scikit-learn in /usr/local/lib/python3.10/dist-packages (from torch-geometric) (1.2.2)\n",
            "Requirement already satisfied: psutil>=5.8.0 in /usr/local/lib/python3.10/dist-packages (from torch-geometric) (5.9.5)\n",
            "Requirement already satisfied: aiosignal>=1.1.2 in /usr/local/lib/python3.10/dist-packages (from aiohttp->torch-geometric) (1.3.1)\n",
            "Requirement already satisfied: attrs>=17.3.0 in /usr/local/lib/python3.10/dist-packages (from aiohttp->torch-geometric) (23.2.0)\n",
            "Requirement already satisfied: frozenlist>=1.1.1 in /usr/local/lib/python3.10/dist-packages (from aiohttp->torch-geometric) (1.4.1)\n",
            "Requirement already satisfied: multidict<7.0,>=4.5 in /usr/local/lib/python3.10/dist-packages (from aiohttp->torch-geometric) (6.0.5)\n",
            "Requirement already satisfied: yarl<2.0,>=1.0 in /usr/local/lib/python3.10/dist-packages (from aiohttp->torch-geometric) (1.9.4)\n",
            "Requirement already satisfied: async-timeout<5.0,>=4.0 in /usr/local/lib/python3.10/dist-packages (from aiohttp->torch-geometric) (4.0.3)\n",
            "Requirement already satisfied: MarkupSafe>=2.0 in /usr/local/lib/python3.10/dist-packages (from jinja2->torch-geometric) (2.1.5)\n",
            "Requirement already satisfied: charset-normalizer<4,>=2 in /usr/local/lib/python3.10/dist-packages (from requests->torch-geometric) (3.3.2)\n",
            "Requirement already satisfied: idna<4,>=2.5 in /usr/local/lib/python3.10/dist-packages (from requests->torch-geometric) (3.7)\n",
            "Requirement already satisfied: urllib3<3,>=1.21.1 in /usr/local/lib/python3.10/dist-packages (from requests->torch-geometric) (2.0.7)\n",
            "Requirement already satisfied: certifi>=2017.4.17 in /usr/local/lib/python3.10/dist-packages (from requests->torch-geometric) (2024.2.2)\n",
            "Requirement already satisfied: joblib>=1.1.1 in /usr/local/lib/python3.10/dist-packages (from scikit-learn->torch-geometric) (1.4.2)\n",
            "Requirement already satisfied: threadpoolctl>=2.0.0 in /usr/local/lib/python3.10/dist-packages (from scikit-learn->torch-geometric) (3.5.0)\n",
            "Installing collected packages: torch-geometric\n",
            "Successfully installed torch-geometric-2.5.3\n"
          ]
        }
      ]
    },
    {
      "cell_type": "code",
      "metadata": {
        "id": "SZ1lohUiu2Nt"
      },
      "source": [
        "import pandas as pd\n",
        "import numpy as np\n",
        "import torch\n",
        "from torch_geometric.data import HeteroData, DataLoader\n",
        "import torch.nn as nn\n",
        "import torch.nn.functional as F\n",
        "from torch_geometric.nn import GCNConv, SAGEConv, HeteroConv, Linear\n",
        "from sklearn.model_selection import train_test_split\n",
        "import matplotlib.pyplot as plt\n",
        "from sklearn.metrics import roc_auc_score"
      ],
      "execution_count": 2,
      "outputs": []
    },
    {
      "cell_type": "code",
      "source": [
        "user_feat_df = pd.read_csv('user_feat.csv')\n",
        "movie_feat_df = pd.read_csv('item_feat.csv')\n",
        "interact_df = pd.read_csv('interact.csv')\n",
        "\n",
        "# Create 'Liked' column based on 'Rating'\n",
        "interact_df['Liked'] = (interact_df['Rating'] >= 4).astype(int)\n",
        "\n",
        "# Prepare user and movie IDs\n",
        "user_ids = user_feat_df['UserID'].unique()\n",
        "movie_ids = movie_feat_df['MovieID'].unique()\n",
        "\n",
        "# Map IDs to indices\n",
        "user_id_map = {user_id: idx for idx, user_id in enumerate(user_ids)}\n",
        "movie_id_map = {movie_id: idx for idx, movie_id in enumerate(movie_ids)}\n",
        "\n",
        "# Prepare edges and features\n",
        "edge_index = torch.tensor([interact_df['UserID'].map(user_id_map).tolist(),\n",
        "                           interact_df['MovieID'].map(movie_id_map).tolist()], dtype=torch.long)\n",
        "\n",
        "# Node features\n",
        "user_features = torch.tensor(user_feat_df[['F', 'M']].values, dtype=torch.float)\n",
        "movie_features = torch.tensor(movie_feat_df.iloc[:, 1:].values, dtype=torch.float)  # Assuming features start from column 1\n",
        "\n",
        "# Create a HeteroData object\n",
        "data = HeteroData()\n",
        "\n",
        "# Add node features\n",
        "data['user'].x = user_features\n",
        "data['movie'].x = movie_features\n",
        "\n",
        "# Add edge indices\n",
        "data['user', 'rates', 'movie'].edge_index = edge_index\n",
        "data['movie', 'rev_rates', 'user'].edge_index = edge_index.flip(0)\n",
        "\n",
        "# Add labels\n",
        "data['user', 'rates', 'movie'].y = torch.tensor(interact_df['Liked'].values, dtype=torch.float)\n",
        "\n",
        "# Create masks for edges\n",
        "train_indices, test_indices = train_test_split(np.arange(edge_index.size(1)), test_size=0.2, random_state=42)\n",
        "\n",
        "edge_train_mask = torch.zeros(edge_index.size(1), dtype=torch.bool)\n",
        "edge_test_mask = torch.zeros(edge_index.size(1), dtype=torch.bool)\n",
        "\n",
        "edge_train_mask[train_indices] = True\n",
        "edge_test_mask[test_indices] = True\n",
        "\n",
        "# Assign masks to data object\n",
        "data['user', 'rates', 'movie'].train_mask = edge_train_mask\n",
        "data['user', 'rates', 'movie'].test_mask = edge_test_mask"
      ],
      "metadata": {
        "id": "yu0Qkt1-Bb_Z"
      },
      "execution_count": 34,
      "outputs": []
    },
    {
      "cell_type": "code",
      "source": [
        "class HeteroGraphModel(nn.Module):\n",
        "    def __init__(self, hidden_channels, out_channels):\n",
        "        super(HeteroGraphModel, self).__init__()\n",
        "        self.conv1 = HeteroConv({\n",
        "            ('user', 'rates', 'movie'): SAGEConv((-1, -1), hidden_channels),\n",
        "            ('movie', 'rev_rates', 'user'): SAGEConv((-1, -1), hidden_channels)\n",
        "        }, aggr='mean')\n",
        "        self.conv2 = HeteroConv({\n",
        "            ('user', 'rates', 'movie'): SAGEConv((-1, -1), out_channels),\n",
        "            ('movie', 'rev_rates', 'user'): SAGEConv((-1, -1), out_channels)\n",
        "        }, aggr='mean')\n",
        "        self.lin = nn.Linear(2 * out_channels, 1)\n",
        "\n",
        "    def forward(self, x_dict, edge_index_dict):\n",
        "        x_dict = self.conv1(x_dict, edge_index_dict)\n",
        "        x_dict = {key: F.relu(x) for key, x in x_dict.items()}\n",
        "        x_dict = self.conv2(x_dict, edge_index_dict)\n",
        "\n",
        "        # Aggregate user and movie embeddings for edge prediction\n",
        "        user_movie_edge_index = edge_index_dict[('user', 'rates', 'movie')]\n",
        "        movie_user_edge_index = edge_index_dict[('movie', 'rev_rates', 'user')]\n",
        "\n",
        "        user_movie_embeddings = torch.cat([x_dict['user'][user_movie_edge_index[0]],\n",
        "                                           x_dict['movie'][user_movie_edge_index[1]]], dim=1)\n",
        "        movie_user_embeddings = torch.cat([x_dict['movie'][movie_user_edge_index[0]],\n",
        "                                           x_dict['user'][movie_user_edge_index[1]]], dim=1)\n",
        "\n",
        "        user_movie_pred = torch.sigmoid(self.lin(user_movie_embeddings)).squeeze()\n",
        "        movie_user_pred = torch.sigmoid(self.lin(movie_user_embeddings)).squeeze()\n",
        "\n",
        "        return user_movie_pred, movie_user_pred\n",
        "\n",
        "# Training and evaluation functions\n",
        "def train(model, data, optimizer, criterion):\n",
        "    model.train()\n",
        "    optimizer.zero_grad()\n",
        "    user_movie_pred, _ = model(data.x_dict, data.edge_index_dict)\n",
        "    loss = criterion(user_movie_pred[data['user', 'rates', 'movie'].train_mask],\n",
        "                     data['user', 'rates', 'movie'].y[data['user', 'rates', 'movie'].train_mask])\n",
        "    loss.backward()\n",
        "    optimizer.step()\n",
        "    return loss.item()\n",
        "\n",
        "def test(model, data):\n",
        "    model.eval()\n",
        "    with torch.no_grad():\n",
        "        user_movie_pred, _ = model(data.x_dict, data.edge_index_dict)\n",
        "        pred = (user_movie_pred > 0.5).float()\n",
        "        test_acc = (pred[data['user', 'rates', 'movie'].test_mask] ==\n",
        "                    data['user', 'rates', 'movie'].y[data['user', 'rates', 'movie'].test_mask]).sum().item() / \\\n",
        "                    data['user', 'rates', 'movie'].test_mask.sum().item()\n",
        "    return test_acc"
      ],
      "metadata": {
        "id": "qXC77EM7yimu"
      },
      "execution_count": 49,
      "outputs": []
    },
    {
      "cell_type": "markdown",
      "source": [],
      "metadata": {
        "id": "r2f-g6q13FvF"
      }
    },
    {
      "cell_type": "code",
      "source": [
        "# Setup\n",
        "device = torch.device('cuda' if torch.cuda.is_available() else 'cpu')\n",
        "model = HeteroGraphModel(hidden_channels=64, out_channels=32).to(device)\n",
        "data = data.to(device)\n",
        "optimizer = torch.optim.Adam(model.parameters(), lr=0.01, weight_decay=5e-4)\n",
        "criterion = nn.BCELoss()\n",
        "\n",
        "# Training loop\n",
        "for epoch in range(200):\n",
        "    loss = train(model, data, optimizer, criterion)\n",
        "    if epoch % 10 == 0:\n",
        "        test_acc = test(model, data)\n",
        "        print(f'Epoch: {epoch}, Loss: {loss:.4f}, Test Acc: {test_acc:.4f}')\n",
        "\n",
        "# Plotting the training loss or accuracy over epochs if collected\n",
        "losses = [train(model, data, optimizer, criterion) for _ in range(200)]\n",
        "plt.plot(range(200), losses)\n",
        "plt.xlabel('Epochs')\n",
        "plt.ylabel('Loss')\n",
        "plt.title('Training Progress')\n",
        "plt.savefig('training_progress.png')\n",
        "plt.show()"
      ],
      "metadata": {
        "colab": {
          "base_uri": "https://localhost:8080/",
          "height": 819
        },
        "id": "5X4fFZ0hyjSK",
        "outputId": "a0070968-e284-4585-9e02-3f2543cfcdcc"
      },
      "execution_count": 50,
      "outputs": [
        {
          "output_type": "stream",
          "name": "stdout",
          "text": [
            "Epoch: 0, Loss: 0.7013, Test Acc: 0.5760\n",
            "Epoch: 10, Loss: 0.6839, Test Acc: 0.5760\n",
            "Epoch: 20, Loss: 0.6807, Test Acc: 0.5758\n",
            "Epoch: 30, Loss: 0.6729, Test Acc: 0.5787\n",
            "Epoch: 40, Loss: 0.6689, Test Acc: 0.5917\n",
            "Epoch: 50, Loss: 0.6673, Test Acc: 0.5923\n",
            "Epoch: 60, Loss: 0.6660, Test Acc: 0.5961\n",
            "Epoch: 70, Loss: 0.6640, Test Acc: 0.5985\n",
            "Epoch: 80, Loss: 0.6578, Test Acc: 0.6114\n",
            "Epoch: 90, Loss: 0.6514, Test Acc: 0.6310\n",
            "Epoch: 100, Loss: 0.6412, Test Acc: 0.6313\n",
            "Epoch: 110, Loss: 0.6356, Test Acc: 0.6547\n",
            "Epoch: 120, Loss: 0.6332, Test Acc: 0.6598\n",
            "Epoch: 130, Loss: 0.6294, Test Acc: 0.6589\n",
            "Epoch: 140, Loss: 0.6281, Test Acc: 0.6619\n",
            "Epoch: 150, Loss: 0.6254, Test Acc: 0.6642\n",
            "Epoch: 160, Loss: 0.6246, Test Acc: 0.6614\n",
            "Epoch: 170, Loss: 0.6237, Test Acc: 0.6637\n",
            "Epoch: 180, Loss: 0.6240, Test Acc: 0.6642\n",
            "Epoch: 190, Loss: 0.6221, Test Acc: 0.6646\n"
          ]
        },
        {
          "output_type": "display_data",
          "data": {
            "text/plain": [
              "<Figure size 640x480 with 1 Axes>"
            ],
            "image/png": "[encoded data removed]"
          },
          "metadata": {}
        }
      ]
    }
  ]
}